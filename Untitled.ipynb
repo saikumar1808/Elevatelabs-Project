{
 "cells": [
  {
   "cell_type": "code",
   "execution_count": 14,
   "id": "f0c082d2-5457-4435-bb06-6ff5211d06f8",
   "metadata": {},
   "outputs": [],
   "source": [
    "import pandas as pd"
   ]
  },
  {
   "cell_type": "markdown",
   "id": "143c0148-2940-4114-8cbb-331b2e44748e",
   "metadata": {},
   "source": [
    "# Importing data"
   ]
  },
  {
   "cell_type": "code",
   "execution_count": 15,
   "id": "70a0fa8f-e290-441d-9937-60fb646ddb0d",
   "metadata": {},
   "outputs": [
    {
     "data": {
      "text/html": [
       "<div>\n",
       "<style scoped>\n",
       "    .dataframe tbody tr th:only-of-type {\n",
       "        vertical-align: middle;\n",
       "    }\n",
       "\n",
       "    .dataframe tbody tr th {\n",
       "        vertical-align: top;\n",
       "    }\n",
       "\n",
       "    .dataframe thead th {\n",
       "        text-align: right;\n",
       "    }\n",
       "</style>\n",
       "<table border=\"1\" class=\"dataframe\">\n",
       "  <thead>\n",
       "    <tr style=\"text-align: right;\">\n",
       "      <th></th>\n",
       "      <th>InvoiceNo</th>\n",
       "      <th>StockCode</th>\n",
       "      <th>Description</th>\n",
       "      <th>Quantity</th>\n",
       "      <th>InvoiceDate</th>\n",
       "      <th>UnitPrice</th>\n",
       "      <th>CustomerID</th>\n",
       "      <th>Country</th>\n",
       "    </tr>\n",
       "  </thead>\n",
       "  <tbody>\n",
       "    <tr>\n",
       "      <th>0</th>\n",
       "      <td>536365</td>\n",
       "      <td>85123A</td>\n",
       "      <td>WHITE HANGING HEART T-LIGHT HOLDER</td>\n",
       "      <td>6</td>\n",
       "      <td>2010-12-01 08:26:00</td>\n",
       "      <td>2.55</td>\n",
       "      <td>17850.0</td>\n",
       "      <td>United Kingdom</td>\n",
       "    </tr>\n",
       "    <tr>\n",
       "      <th>1</th>\n",
       "      <td>536365</td>\n",
       "      <td>71053</td>\n",
       "      <td>WHITE METAL LANTERN</td>\n",
       "      <td>6</td>\n",
       "      <td>2010-12-01 08:26:00</td>\n",
       "      <td>3.39</td>\n",
       "      <td>17850.0</td>\n",
       "      <td>United Kingdom</td>\n",
       "    </tr>\n",
       "    <tr>\n",
       "      <th>2</th>\n",
       "      <td>536365</td>\n",
       "      <td>84406B</td>\n",
       "      <td>CREAM CUPID HEARTS COAT HANGER</td>\n",
       "      <td>8</td>\n",
       "      <td>2010-12-01 08:26:00</td>\n",
       "      <td>2.75</td>\n",
       "      <td>17850.0</td>\n",
       "      <td>United Kingdom</td>\n",
       "    </tr>\n",
       "    <tr>\n",
       "      <th>3</th>\n",
       "      <td>536365</td>\n",
       "      <td>84029G</td>\n",
       "      <td>KNITTED UNION FLAG HOT WATER BOTTLE</td>\n",
       "      <td>6</td>\n",
       "      <td>2010-12-01 08:26:00</td>\n",
       "      <td>3.39</td>\n",
       "      <td>17850.0</td>\n",
       "      <td>United Kingdom</td>\n",
       "    </tr>\n",
       "    <tr>\n",
       "      <th>4</th>\n",
       "      <td>536365</td>\n",
       "      <td>84029E</td>\n",
       "      <td>RED WOOLLY HOTTIE WHITE HEART.</td>\n",
       "      <td>6</td>\n",
       "      <td>2010-12-01 08:26:00</td>\n",
       "      <td>3.39</td>\n",
       "      <td>17850.0</td>\n",
       "      <td>United Kingdom</td>\n",
       "    </tr>\n",
       "  </tbody>\n",
       "</table>\n",
       "</div>"
      ],
      "text/plain": [
       "  InvoiceNo StockCode                          Description  Quantity  \\\n",
       "0    536365    85123A   WHITE HANGING HEART T-LIGHT HOLDER         6   \n",
       "1    536365     71053                  WHITE METAL LANTERN         6   \n",
       "2    536365    84406B       CREAM CUPID HEARTS COAT HANGER         8   \n",
       "3    536365    84029G  KNITTED UNION FLAG HOT WATER BOTTLE         6   \n",
       "4    536365    84029E       RED WOOLLY HOTTIE WHITE HEART.         6   \n",
       "\n",
       "          InvoiceDate  UnitPrice  CustomerID         Country  \n",
       "0 2010-12-01 08:26:00       2.55     17850.0  United Kingdom  \n",
       "1 2010-12-01 08:26:00       3.39     17850.0  United Kingdom  \n",
       "2 2010-12-01 08:26:00       2.75     17850.0  United Kingdom  \n",
       "3 2010-12-01 08:26:00       3.39     17850.0  United Kingdom  \n",
       "4 2010-12-01 08:26:00       3.39     17850.0  United Kingdom  "
      ]
     },
     "execution_count": 15,
     "metadata": {},
     "output_type": "execute_result"
    }
   ],
   "source": [
    "df = pd.read_excel('Online Retail.xlsx')\n",
    "df.head()"
   ]
  },
  {
   "cell_type": "markdown",
   "id": "e769f0cb-c821-4621-b5b8-ab247608b5a5",
   "metadata": {},
   "source": [
    "# Removing rows with null values"
   ]
  },
  {
   "cell_type": "code",
   "execution_count": 4,
   "id": "4c7887a1-0b04-4b58-af39-40cc0e410ba4",
   "metadata": {},
   "outputs": [],
   "source": [
    "df.dropna(subset=['CustomerID'], inplace=True)\n",
    "df = df[(df['Quantity'] > 0) & (df['UnitPrice'] > 0)]\n",
    "df = df[~df['InvoiceNo'].astype(str).str.startswith('C')]"
   ]
  },
  {
   "cell_type": "code",
   "execution_count": 5,
   "id": "bc971e30-1243-4abe-826d-c322b7f354b2",
   "metadata": {},
   "outputs": [],
   "source": [
    "df['TotalPrice'] = df['Quantity'] * df['UnitPrice']\n",
    "df['InvoiceMonth'] = df['InvoiceDate'].dt.to_period('M')\n"
   ]
  },
  {
   "cell_type": "code",
   "execution_count": 6,
   "id": "359e65a2-274b-4742-8c95-d560bc793063",
   "metadata": {},
   "outputs": [
    {
     "data": {
      "text/html": [
       "<div>\n",
       "<style scoped>\n",
       "    .dataframe tbody tr th:only-of-type {\n",
       "        vertical-align: middle;\n",
       "    }\n",
       "\n",
       "    .dataframe tbody tr th {\n",
       "        vertical-align: top;\n",
       "    }\n",
       "\n",
       "    .dataframe thead th {\n",
       "        text-align: right;\n",
       "    }\n",
       "</style>\n",
       "<table border=\"1\" class=\"dataframe\">\n",
       "  <thead>\n",
       "    <tr style=\"text-align: right;\">\n",
       "      <th></th>\n",
       "      <th>InvoiceNo</th>\n",
       "      <th>StockCode</th>\n",
       "      <th>Description</th>\n",
       "      <th>Quantity</th>\n",
       "      <th>InvoiceDate</th>\n",
       "      <th>UnitPrice</th>\n",
       "      <th>CustomerID</th>\n",
       "      <th>Country</th>\n",
       "      <th>TotalPrice</th>\n",
       "      <th>InvoiceMonth</th>\n",
       "    </tr>\n",
       "  </thead>\n",
       "  <tbody>\n",
       "    <tr>\n",
       "      <th>0</th>\n",
       "      <td>536365</td>\n",
       "      <td>85123A</td>\n",
       "      <td>WHITE HANGING HEART T-LIGHT HOLDER</td>\n",
       "      <td>6</td>\n",
       "      <td>2010-12-01 08:26:00</td>\n",
       "      <td>2.55</td>\n",
       "      <td>17850.0</td>\n",
       "      <td>United Kingdom</td>\n",
       "      <td>15.30</td>\n",
       "      <td>2010-12</td>\n",
       "    </tr>\n",
       "    <tr>\n",
       "      <th>1</th>\n",
       "      <td>536365</td>\n",
       "      <td>71053</td>\n",
       "      <td>WHITE METAL LANTERN</td>\n",
       "      <td>6</td>\n",
       "      <td>2010-12-01 08:26:00</td>\n",
       "      <td>3.39</td>\n",
       "      <td>17850.0</td>\n",
       "      <td>United Kingdom</td>\n",
       "      <td>20.34</td>\n",
       "      <td>2010-12</td>\n",
       "    </tr>\n",
       "    <tr>\n",
       "      <th>2</th>\n",
       "      <td>536365</td>\n",
       "      <td>84406B</td>\n",
       "      <td>CREAM CUPID HEARTS COAT HANGER</td>\n",
       "      <td>8</td>\n",
       "      <td>2010-12-01 08:26:00</td>\n",
       "      <td>2.75</td>\n",
       "      <td>17850.0</td>\n",
       "      <td>United Kingdom</td>\n",
       "      <td>22.00</td>\n",
       "      <td>2010-12</td>\n",
       "    </tr>\n",
       "    <tr>\n",
       "      <th>3</th>\n",
       "      <td>536365</td>\n",
       "      <td>84029G</td>\n",
       "      <td>KNITTED UNION FLAG HOT WATER BOTTLE</td>\n",
       "      <td>6</td>\n",
       "      <td>2010-12-01 08:26:00</td>\n",
       "      <td>3.39</td>\n",
       "      <td>17850.0</td>\n",
       "      <td>United Kingdom</td>\n",
       "      <td>20.34</td>\n",
       "      <td>2010-12</td>\n",
       "    </tr>\n",
       "    <tr>\n",
       "      <th>4</th>\n",
       "      <td>536365</td>\n",
       "      <td>84029E</td>\n",
       "      <td>RED WOOLLY HOTTIE WHITE HEART.</td>\n",
       "      <td>6</td>\n",
       "      <td>2010-12-01 08:26:00</td>\n",
       "      <td>3.39</td>\n",
       "      <td>17850.0</td>\n",
       "      <td>United Kingdom</td>\n",
       "      <td>20.34</td>\n",
       "      <td>2010-12</td>\n",
       "    </tr>\n",
       "  </tbody>\n",
       "</table>\n",
       "</div>"
      ],
      "text/plain": [
       "  InvoiceNo StockCode                          Description  Quantity  \\\n",
       "0    536365    85123A   WHITE HANGING HEART T-LIGHT HOLDER         6   \n",
       "1    536365     71053                  WHITE METAL LANTERN         6   \n",
       "2    536365    84406B       CREAM CUPID HEARTS COAT HANGER         8   \n",
       "3    536365    84029G  KNITTED UNION FLAG HOT WATER BOTTLE         6   \n",
       "4    536365    84029E       RED WOOLLY HOTTIE WHITE HEART.         6   \n",
       "\n",
       "          InvoiceDate  UnitPrice  CustomerID         Country  TotalPrice  \\\n",
       "0 2010-12-01 08:26:00       2.55     17850.0  United Kingdom       15.30   \n",
       "1 2010-12-01 08:26:00       3.39     17850.0  United Kingdom       20.34   \n",
       "2 2010-12-01 08:26:00       2.75     17850.0  United Kingdom       22.00   \n",
       "3 2010-12-01 08:26:00       3.39     17850.0  United Kingdom       20.34   \n",
       "4 2010-12-01 08:26:00       3.39     17850.0  United Kingdom       20.34   \n",
       "\n",
       "  InvoiceMonth  \n",
       "0      2010-12  \n",
       "1      2010-12  \n",
       "2      2010-12  \n",
       "3      2010-12  \n",
       "4      2010-12  "
      ]
     },
     "execution_count": 6,
     "metadata": {},
     "output_type": "execute_result"
    }
   ],
   "source": [
    "df.head()"
   ]
  },
  {
   "cell_type": "markdown",
   "id": "e5fd494c-7811-4550-b4ad-597cc79c70d2",
   "metadata": {},
   "source": [
    "# Top products"
   ]
  },
  {
   "cell_type": "code",
   "execution_count": 7,
   "id": "544f85de-5990-403a-9b5a-6867401870fe",
   "metadata": {},
   "outputs": [
    {
     "name": "stdout",
     "output_type": "stream",
     "text": [
      "Description\n",
      "PAPER CRAFT , LITTLE BIRDIE           168469.60\n",
      "REGENCY CAKESTAND 3 TIER              142592.95\n",
      "WHITE HANGING HEART T-LIGHT HOLDER    100448.15\n",
      "JUMBO BAG RED RETROSPOT                85220.78\n",
      "MEDIUM CERAMIC TOP STORAGE JAR         81416.73\n",
      "POSTAGE                                77803.96\n",
      "PARTY BUNTING                          68844.33\n",
      "ASSORTED COLOUR BIRD ORNAMENT          56580.34\n",
      "Manual                                 53779.93\n",
      "RABBIT NIGHT LIGHT                     51346.20\n",
      "Name: TotalPrice, dtype: float64\n"
     ]
    }
   ],
   "source": [
    "top_products = df.groupby('Description')['TotalPrice'].sum().sort_values(ascending=False).head(10)\n",
    "print(top_products)\n"
   ]
  },
  {
   "cell_type": "markdown",
   "id": "a478855e-46bd-4bf6-8d6d-09f4dda55ec5",
   "metadata": {},
   "source": [
    "# Sales by country"
   ]
  },
  {
   "cell_type": "code",
   "execution_count": 9,
   "id": "36e176a0-1773-4633-a805-c47484bd7cb5",
   "metadata": {},
   "outputs": [
    {
     "name": "stdout",
     "output_type": "stream",
     "text": [
      "Country\n",
      "United Kingdom          7308391.554\n",
      "Netherlands              285446.340\n",
      "EIRE                     265545.900\n",
      "Germany                  228867.140\n",
      "France                   209024.050\n",
      "Australia                138521.310\n",
      "Spain                     61577.110\n",
      "Switzerland               56443.950\n",
      "Belgium                   41196.340\n",
      "Sweden                    38378.330\n",
      "Japan                     37416.370\n",
      "Norway                    36165.440\n",
      "Portugal                  33439.890\n",
      "Finland                   22546.080\n",
      "Singapore                 21279.290\n",
      "Channel Islands           20450.440\n",
      "Denmark                   18955.340\n",
      "Italy                     17483.240\n",
      "Cyprus                    13590.380\n",
      "Austria                   10198.680\n",
      "Poland                     7334.650\n",
      "Israel                     7221.690\n",
      "Greece                     4760.520\n",
      "Iceland                    4310.000\n",
      "Canada                     3666.380\n",
      "USA                        3580.390\n",
      "Malta                      2725.590\n",
      "Unspecified                2667.070\n",
      "United Arab Emirates       1902.280\n",
      "Lebanon                    1693.880\n",
      "Lithuania                  1661.060\n",
      "European Community         1300.250\n",
      "Brazil                     1143.600\n",
      "RSA                        1002.310\n",
      "Czech Republic              826.740\n",
      "Bahrain                     548.400\n",
      "Saudi Arabia                145.920\n",
      "Name: TotalPrice, dtype: float64\n"
     ]
    }
   ],
   "source": [
    "country_sales = df.groupby('Country')['TotalPrice'].sum().sort_values(ascending=False)\n",
    "print(country_sales)\n"
   ]
  },
  {
   "cell_type": "markdown",
   "id": "ee9a334f-3cfd-47e3-a2c9-8b17e6bdd3c0",
   "metadata": {},
   "source": [
    "# Monthly revenue trend"
   ]
  },
  {
   "cell_type": "code",
   "execution_count": 10,
   "id": "15e81d90-e3d9-4b75-b482-f790f705d85f",
   "metadata": {},
   "outputs": [
    {
     "data": {
      "text/plain": [
       "<Axes: title={'center': 'Monthly Revenue Trend'}, xlabel='InvoiceMonth'>"
      ]
     },
     "execution_count": 10,
     "metadata": {},
     "output_type": "execute_result"
    },
    {
     "data": {
      "image/png": "[encoded data removed]",
      "text/plain": [
       "<Figure size 640x480 with 1 Axes>"
      ]
     },
     "metadata": {},
     "output_type": "display_data"
    }
   ],
   "source": [
    "monthly_sales = df.groupby('InvoiceMonth')['TotalPrice'].sum()\n",
    "monthly_sales.plot(kind='line', title='Monthly Revenue Trend')\n"
   ]
  },
  {
   "cell_type": "markdown",
   "id": "0df10c6b-c838-4bd0-a5c0-951dead70125",
   "metadata": {},
   "source": [
    "# Most frequently ordered products"
   ]
  },
  {
   "cell_type": "code",
   "execution_count": 11,
   "id": "4cfa9971-79be-4261-98e5-af43188a4a56",
   "metadata": {},
   "outputs": [
    {
     "name": "stdout",
     "output_type": "stream",
     "text": [
      "Description\n",
      "PAPER CRAFT , LITTLE BIRDIE           80995\n",
      "MEDIUM CERAMIC TOP STORAGE JAR        77916\n",
      "WORLD WAR 2 GLIDERS ASSTD DESIGNS     54415\n",
      "JUMBO BAG RED RETROSPOT               46181\n",
      "WHITE HANGING HEART T-LIGHT HOLDER    36725\n",
      "ASSORTED COLOUR BIRD ORNAMENT         35362\n",
      "PACK OF 72 RETROSPOT CAKE CASES       33693\n",
      "POPCORN HOLDER                        30931\n",
      "RABBIT NIGHT LIGHT                    27202\n",
      "MINI PAINT SET VINTAGE                26076\n",
      "Name: Quantity, dtype: int64\n"
     ]
    }
   ],
   "source": [
    "popular_products = df.groupby('Description')['Quantity'].sum().sort_values(ascending=False).head(10)\n",
    "print(popular_products)\n"
   ]
  },
  {
   "cell_type": "markdown",
   "id": "948085b0-9ceb-49fb-b159-73ad34d6c4c4",
   "metadata": {},
   "source": [
    "# Low revenue products"
   ]
  },
  {
   "cell_type": "code",
   "execution_count": 13,
   "id": "c15df8d4-90e6-4d17-b192-a69b713d04d6",
   "metadata": {},
   "outputs": [
    {
     "name": "stdout",
     "output_type": "stream",
     "text": [
      "                                  Quantity  TotalPrice\n",
      "Description                                           \n",
      "GLOW IN DARK DOLPHINS                  129       27.09\n",
      "GREETING CARD, STICKY GORDON           157       29.83\n",
      "BLUE STONES ON WIRE FOR CANDLE         404       33.75\n",
      "FLOWER BLUE CLOCK WITH SUCKER          117       33.93\n",
      "GREETING CARD, OVERCROWDED POOL.       180       34.20\n",
      "RETRO PILL BOX , REVOLUTIONARY         189       34.91\n",
      "ASSORTED COLOUR SUCTION CUP HOOK       202       38.38\n",
      "ROUND BLUE CLOCK WITH SUCKER           211       40.09\n",
      "DOGGY RUBBER                           193       40.53\n",
      "FAN BLACK FRAME                        143       41.47\n"
     ]
    }
   ],
   "source": [
    "product_perf = df.groupby('Description').agg({'Quantity': 'sum', 'TotalPrice': 'sum'})\n",
    "low_perf = product_perf[product_perf['Quantity'] > 100].sort_values('TotalPrice').head(10)\n",
    "print(low_perf)\n"
   ]
  },
  {
   "cell_type": "markdown",
   "id": "8d263545-519a-4f8f-8b3e-4a7ce223018d",
   "metadata": {},
   "source": [
    "# Export to Excel"
   ]
  },
  {
   "cell_type": "code",
   "execution_count": 16,
   "id": "b1d25a06-f1c7-4ea5-b531-cab17154b816",
   "metadata": {},
   "outputs": [],
   "source": [
    "df.to_excel('cleaned_online_retail.xlsx', index=False)"
   ]
  }
 ],
 "metadata": {
  "kernelspec": {
   "display_name": "Python 3 (ipykernel)",
   "language": "python",
   "name": "python3"
  },
  "language_info": {
   "codemirror_mode": {
    "name": "ipython",
    "version": 3
   },
   "file_extension": ".py",
   "mimetype": "text/x-python",
   "name": "python",
   "nbconvert_exporter": "python",
   "pygments_lexer": "ipython3",
   "version": "3.13.0"
  }
 },
 "nbformat": 4,
 "nbformat_minor": 5
}
